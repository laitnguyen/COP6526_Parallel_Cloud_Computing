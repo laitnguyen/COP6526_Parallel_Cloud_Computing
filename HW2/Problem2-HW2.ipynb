{
 "cells": [
  {
   "cell_type": "markdown",
   "metadata": {},
   "source": [
    "## **Problem 2**"
   ]
  },
  {
   "cell_type": "markdown",
   "metadata": {},
   "source": [
    "### **2.1** Design a PySpark program to do logistic regression using \"LogisticRegression\" in \"pyspark.ml.classification\""
   ]
  },
  {
   "cell_type": "code",
   "execution_count": 1,
   "metadata": {},
   "outputs": [],
   "source": [
    "from pyspark.sql import SparkSession\n",
    "from pyspark.ml.evaluation import BinaryClassificationEvaluator\n",
    "from pyspark.ml.feature import VectorAssembler\n",
    "from pyspark.ml.classification import LogisticRegression\n"
   ]
  },
  {
   "cell_type": "code",
   "execution_count": 2,
   "metadata": {},
   "outputs": [
    {
     "name": "stdout",
     "output_type": "stream",
     "text": [
      "22/11/05 17:14:21 WARN Utils: Your hostname, Lais-MacBook-Pro.local resolves to a loopback address: 127.0.0.1; using 192.168.2.7 instead (on interface en0)\n",
      "22/11/05 17:14:21 WARN Utils: Set SPARK_LOCAL_IP if you need to bind to another address\n"
     ]
    },
    {
     "name": "stderr",
     "output_type": "stream",
     "text": [
      "Setting default log level to \"WARN\".\n",
      "To adjust logging level use sc.setLogLevel(newLevel). For SparkR, use setLogLevel(newLevel).\n"
     ]
    },
    {
     "name": "stdout",
     "output_type": "stream",
     "text": [
      "22/11/05 17:14:22 WARN NativeCodeLoader: Unable to load native-hadoop library for your platform... using builtin-java classes where applicable\n"
     ]
    }
   ],
   "source": [
    "# Initializing a Spark session\n",
    "spark = SparkSession.builder.master('local').appName(\"data_logistic_regression\").config('spark.some.config.option','some-value').getOrCreate()"
   ]
  },
  {
   "cell_type": "code",
   "execution_count": 3,
   "metadata": {},
   "outputs": [
    {
     "name": "stdout",
     "output_type": "stream",
     "text": [
      "root\n",
      " |-- x1: double (nullable = true)\n",
      " |-- x2: double (nullable = true)\n",
      " |-- label: integer (nullable = true)\n",
      "\n"
     ]
    }
   ],
   "source": [
    "# Read the data set\n",
    "data = spark.read.csv(\"data_logistic_regression.csv\", inferSchema = True, header = True)\n",
    "data.printSchema()"
   ]
  },
  {
   "cell_type": "code",
   "execution_count": 4,
   "metadata": {},
   "outputs": [],
   "source": [
    "# Using VectorAssembler to transform all features into a vector\n",
    "assembler = VectorAssembler(inputCols = ['x1','x2'], outputCol='features')\n"
   ]
  },
  {
   "cell_type": "code",
   "execution_count": 5,
   "metadata": {},
   "outputs": [
    {
     "name": "stdout",
     "output_type": "stream",
     "text": [
      "+--------------------+-----+\n",
      "|            features|label|\n",
      "+--------------------+-----+\n",
      "|[75.01365839,30.6...|    0|\n",
      "|[55.48216114,35.5...|    0|\n",
      "|[95.86155507,38.2...|    0|\n",
      "|[93.1143888,38.80...|    0|\n",
      "|[56.2538175,39.26...|    0|\n",
      "|[82.36875376,40.6...|    0|\n",
      "|[66.56089447,41.0...|    0|\n",
      "|[74.78925296,41.5...|    0|\n",
      "|[60.45555629,42.5...|    0|\n",
      "|[82.22666158,42.7...|    0|\n",
      "|[67.37202755,42.8...|    0|\n",
      "|[32.72283304,43.3...|    0|\n",
      "|[34.21206098,44.2...|    0|\n",
      "|[80.19018075,44.8...|    1|\n",
      "|[89.84580671,45.3...|    1|\n",
      "|[94.83450672,45.6...|    1|\n",
      "|[51.04775177,45.8...|    0|\n",
      "|[67.94685548,46.6...|    0|\n",
      "|[51.54772027,46.8...|    0|\n",
      "|[35.28611282,47.0...|    0|\n",
      "+--------------------+-----+\n",
      "only showing top 20 rows\n",
      "\n"
     ]
    }
   ],
   "source": [
    "# Selecting input and output columns\n",
    "output = assembler.transform(data)\n",
    "finalised_data = output.select('features', 'label')\n",
    "finalised_data.show()"
   ]
  },
  {
   "cell_type": "code",
   "execution_count": 6,
   "metadata": {},
   "outputs": [],
   "source": [
    "# Split the data set into training and testing sets: \n",
    "train, test = finalised_data.randomSplit([0.7, 0.3])"
   ]
  },
  {
   "cell_type": "code",
   "execution_count": 7,
   "metadata": {},
   "outputs": [
    {
     "name": "stdout",
     "output_type": "stream",
     "text": [
      "22/11/05 17:14:42 WARN InstanceBuilder$JavaBLAS: Failed to load implementation from:dev.ludovic.netlib.blas.VectorBLAS\n",
      "22/11/05 17:14:42 WARN InstanceBuilder$NativeBLAS: Failed to load implementation from:dev.ludovic.netlib.blas.JNIBLAS\n",
      "22/11/05 17:14:42 WARN InstanceBuilder$NativeBLAS: Failed to load implementation from:dev.ludovic.netlib.blas.ForeignLinkerBLAS\n"
     ]
    }
   ],
   "source": [
    "# Building the model\n",
    "lr = LogisticRegression(featuresCol='features', labelCol='label', maxIter=5)\n",
    "lrmodel = lr.fit(train)\n",
    "predictions = lrmodel.transform(test)"
   ]
  },
  {
   "cell_type": "code",
   "execution_count": 8,
   "metadata": {},
   "outputs": [
    {
     "name": "stdout",
     "output_type": "stream",
     "text": [
      "+--------------------+-----+--------------------+--------------------+----------+\n",
      "|            features|label|       rawPrediction|         probability|prediction|\n",
      "+--------------------+-----+--------------------+--------------------+----------+\n",
      "|[30.05882245,49.5...|  0.0|[7.82908248002541...|[0.99960216785637...|       0.0|\n",
      "|[32.72283304,43.3...|  0.0|[8.27168405699651...|[0.99974441095050...|       0.0|\n",
      "|[33.91550011,98.8...|  0.0|[0.05836549380613...|[0.51458723269841...|       0.0|\n",
      "|[34.18364003,75.2...|  0.0|[3.41685118670861...|[0.96822704600124...|       0.0|\n",
      "|[35.28611282,47.0...|  0.0|[7.29101807738751...|[0.99931883056458...|       0.0|\n",
      "|[38.7858038,64.99...|  0.0|[4.09257274902293...|[0.98357796293092...|       0.0|\n",
      "|[39.53833914,98.9...|  0.0|[-0.9315185091289...|[0.28261674350130...|       1.0|\n",
      "|[40.45755098,97.5...|  1.0|[-0.8866755278707...|[0.29179635790692...|       1.0|\n",
      "|[42.07545454,78.8...|  0.0|[1.52516692192633...|[0.82129807637659...|       0.0|\n",
      "|[44.66826172,66.4...|  0.0|[2.86037962522373...|[0.94585274544076...|       0.0|\n",
      "|[47.26426911,88.4...|  1.0|[-0.7646198464697...|[0.31764408897368...|       1.0|\n",
      "|[49.07256322,51.8...|  0.0|[4.19366487802802...|[0.98513347177193...|       0.0|\n",
      "|[50.53478829,48.8...|  0.0|[4.37568535369872...|[0.98757676049503...|       0.0|\n",
      "|[51.04775177,45.8...|  0.0|[4.72355157865135...|[0.99119465119701...|       0.0|\n",
      "|[51.54772027,46.8...|  0.0|[4.48770518637475...|[0.98887865270881...|       0.0|\n",
      "|[51.9828298,71.16...|  0.0|[0.90901984143594...|[0.71279955012649...|       0.0|\n",
      "|[52.10797973,63.1...|  0.0|[2.04576695077538...|[0.88551919335653...|       0.0|\n",
      "|[52.34800399,60.7...|  0.0|[2.34382219306392...|[0.91244192827209...|       0.0|\n",
      "|[53.97105215,89.2...|  1.0|[-2.0359508532732...|[0.11547968508123...|       1.0|\n",
      "|[55.34001756,64.9...|  1.0|[1.22391383560292...|[0.77275157829401...|       0.0|\n",
      "+--------------------+-----+--------------------+--------------------+----------+\n",
      "only showing top 20 rows\n",
      "\n"
     ]
    }
   ],
   "source": [
    "lrmodel_summary = lrmodel.summary\n",
    "lrmodel_summary.predictions.show()"
   ]
  },
  {
   "cell_type": "code",
   "execution_count": 9,
   "metadata": {},
   "outputs": [
    {
     "name": "stdout",
     "output_type": "stream",
     "text": [
      "+-------+------------------+-------------------+\n",
      "|summary|             label|         prediction|\n",
      "+-------+------------------+-------------------+\n",
      "|  count|                59|                 59|\n",
      "|   mean|0.5423728813559322|  0.576271186440678|\n",
      "| stddev|0.5024777880939232|0.49839016119517676|\n",
      "|    min|               0.0|                0.0|\n",
      "|    max|               1.0|                1.0|\n",
      "+-------+------------------+-------------------+\n",
      "\n"
     ]
    }
   ],
   "source": [
    "lrmodel_summary.predictions.describe().show()"
   ]
  },
  {
   "cell_type": "markdown",
   "metadata": {},
   "source": [
    "### **2.2** Draw a ROC curve using \"matplotlib.pyplot\". Its x-axis is \"False Positive Rate\", and y-axis is  \"True Positive Rate\"."
   ]
  },
  {
   "cell_type": "code",
   "execution_count": 10,
   "metadata": {},
   "outputs": [
    {
     "name": "stdout",
     "output_type": "stream",
     "text": [
      "Accuracy :  0.8095238095238095\n"
     ]
    }
   ],
   "source": [
    "# Evaluating the model\n",
    "\n",
    "# Model Accuracy\n",
    "accuracy = predictions.filter(predictions.label == predictions.prediction).count() / float(predictions.count())\n",
    "print(\"Accuracy : \",accuracy)"
   ]
  },
  {
   "cell_type": "code",
   "execution_count": 11,
   "metadata": {},
   "outputs": [
    {
     "name": "stdout",
     "output_type": "stream",
     "text": [
      "Test Area Under ROC 0.9500000000000001\n"
     ]
    }
   ],
   "source": [
    "evaluator = BinaryClassificationEvaluator()\n",
    "print('Test Area Under ROC', evaluator.evaluate(predictions))"
   ]
  },
  {
   "cell_type": "code",
   "execution_count": 12,
   "metadata": {},
   "outputs": [
    {
     "data": {
      "image/png": "[encoded data removed]",
      "text/plain": [
       "<Figure size 500x500 with 1 Axes>"
      ]
     },
     "metadata": {},
     "output_type": "display_data"
    }
   ],
   "source": [
    "# Drawing ROC curve\n",
    "\n",
    "import matplotlib.pyplot as plt\n",
    "plt.figure(figsize=(5,5))\n",
    "plt.plot([0, 1], [0, 1], 'r--')\n",
    "plt.plot(lrmodel.summary.roc.select('FPR').collect(),\n",
    "         lrmodel.summary.roc.select('TPR').collect())\n",
    "plt.xlabel('FPR')\n",
    "plt.ylabel('TPR')\n",
    "plt.show()"
   ]
  },
  {
   "cell_type": "markdown",
   "metadata": {},
   "source": [
    "From the above results, the accuracy score of the model is 0.809 meaning that the model can predict correctly 80.9 percent of classified data instance over the total number of data instances. It can be seen that the model is doing good job of identifiying the class labels. Besides, the higher the AUC which a model can achieve, the better the model is at distinguishing between classes. In this case, the model achieved AUC of 0.95 (close to 1) inferring that it performs well at classifying between class labels 0 and 1. \n"
   ]
  }
 ],
 "metadata": {
  "kernelspec": {
   "display_name": "Python 3.9.6 64-bit",
   "language": "python",
   "name": "python3"
  },
  "language_info": {
   "codemirror_mode": {
    "name": "ipython",
    "version": 3
   },
   "file_extension": ".py",
   "mimetype": "text/x-python",
   "name": "python",
   "nbconvert_exporter": "python",
   "pygments_lexer": "ipython3",
   "version": "3.9.6"
  },
  "orig_nbformat": 4,
  "vscode": {
   "interpreter": {
    "hash": "aee8b7b246df8f9039afb4144a1f6fd8d2ca17a180786b69acc140d282b71a49"
   }
  }
 },
 "nbformat": 4,
 "nbformat_minor": 2
}
